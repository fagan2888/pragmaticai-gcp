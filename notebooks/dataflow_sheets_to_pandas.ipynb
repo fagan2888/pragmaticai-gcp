{
  "nbformat": 4,
  "nbformat_minor": 0,
  "metadata": {
    "colab": {
      "name": "dataflow-sheets-to-pandas.ipynb",
      "version": "0.3.2",
      "views": {},
      "default_view": {},
      "provenance": [],
      "collapsed_sections": []
    },
    "kernelspec": {
      "name": "python3",
      "display_name": "Python 3"
    }
  },
  "cells": [
    {
      "metadata": {
        "id": "eQygV_S2lGk6",
        "colab_type": "text"
      },
      "cell_type": "markdown",
      "source": [
        "**DataFlow Example**"
      ]
    },
    {
      "metadata": {
        "id": "gQgAV1CQlIZW",
        "colab_type": "code",
        "colab": {
          "autoexec": {
            "startup": false,
            "wait_interval": 0
          }
        }
      },
      "cell_type": "code",
      "source": [
        "!pip install --upgrade -q gspread"
      ],
      "execution_count": 0,
      "outputs": []
    },
    {
      "metadata": {
        "id": "yyyicLnamlo_",
        "colab_type": "text"
      },
      "cell_type": "markdown",
      "source": [
        "**Authenticate to API**"
      ]
    },
    {
      "metadata": {
        "id": "-KfHfbk7mbNz",
        "colab_type": "code",
        "colab": {
          "autoexec": {
            "startup": false,
            "wait_interval": 0
          }
        }
      },
      "cell_type": "code",
      "source": [
        "from google.colab import auth\n",
        "auth.authenticate_user()\n",
        "\n",
        "import gspread\n",
        "from oauth2client.client import GoogleCredentials\n",
        "\n",
        "gc = gspread.authorize(GoogleCredentials.get_application_default())"
      ],
      "execution_count": 0,
      "outputs": []
    },
    {
      "metadata": {
        "id": "zMPUx_g5mw06",
        "colab_type": "text"
      },
      "cell_type": "markdown",
      "source": [
        "**Create a Spreadsheet and Put Items in It**"
      ]
    },
    {
      "metadata": {
        "id": "67RASJ2SoauV",
        "colab_type": "code",
        "colab": {
          "autoexec": {
            "startup": false,
            "wait_interval": 0
          }
        }
      },
      "cell_type": "code",
      "source": [
        "sh = gc.create('pramaticai-test')\n",
        "worksheet = gc.open('pramaticai-test').sheet1\n",
        "cell_list = worksheet.range('A1:A10')\n",
        "\n",
        "import random\n",
        "count = 0\n",
        "for cell in cell_list:\n",
        "  count +=1\n",
        "  cell.value = count\n",
        "worksheet.update_cells(cell_list)"
      ],
      "execution_count": 0,
      "outputs": []
    },
    {
      "metadata": {
        "id": "gfAFR7NBoOMy",
        "colab_type": "text"
      },
      "cell_type": "markdown",
      "source": [
        "**Convert Spreadsheet Data to Pandas DataFrame**"
      ]
    },
    {
      "metadata": {
        "id": "XTAK0JXboTH4",
        "colab_type": "code",
        "colab": {
          "autoexec": {
            "startup": false,
            "wait_interval": 0
          }
        }
      },
      "cell_type": "code",
      "source": [
        "worksheet = gc.open('pramaticai-test').sheet1\n",
        "rows = worksheet.get_all_values()\n",
        "import pandas as pd\n",
        "df = pd.DataFrame.from_records(rows)"
      ],
      "execution_count": 0,
      "outputs": []
    },
    {
      "metadata": {
        "id": "HN3asuXDo7gx",
        "colab_type": "code",
        "colab": {
          "autoexec": {
            "startup": false,
            "wait_interval": 0
          },
          "output_extras": [
            {
              "item_id": 1
            }
          ],
          "base_uri": "https://localhost:8080/",
          "height": 359
        },
        "outputId": "c0e358bf-bae9-4f62-e6fa-79e4f17da635",
        "executionInfo": {
          "status": "ok",
          "timestamp": 1519758352449,
          "user_tz": 480,
          "elapsed": 264,
          "user": {
            "displayName": "Noah Gift",
            "photoUrl": "//lh4.googleusercontent.com/-dTIpOULZLNo/AAAAAAAAAAI/AAAAAAAAC2M/63UwSJKWVDw/s50-c-k-no/photo.jpg",
            "userId": "114367115509726512575"
          }
        }
      },
      "cell_type": "code",
      "source": [
        "df"
      ],
      "execution_count": 22,
      "outputs": [
        {
          "output_type": "execute_result",
          "data": {
            "text/html": [
              "<div>\n",
              "<style scoped>\n",
              "    .dataframe tbody tr th:only-of-type {\n",
              "        vertical-align: middle;\n",
              "    }\n",
              "\n",
              "    .dataframe tbody tr th {\n",
              "        vertical-align: top;\n",
              "    }\n",
              "\n",
              "    .dataframe thead th {\n",
              "        text-align: right;\n",
              "    }\n",
              "</style>\n",
              "<table border=\"1\" class=\"dataframe\">\n",
              "  <thead>\n",
              "    <tr style=\"text-align: right;\">\n",
              "      <th></th>\n",
              "      <th>0</th>\n",
              "    </tr>\n",
              "  </thead>\n",
              "  <tbody>\n",
              "    <tr>\n",
              "      <th>0</th>\n",
              "      <td>1</td>\n",
              "    </tr>\n",
              "    <tr>\n",
              "      <th>1</th>\n",
              "      <td>2</td>\n",
              "    </tr>\n",
              "    <tr>\n",
              "      <th>2</th>\n",
              "      <td>3</td>\n",
              "    </tr>\n",
              "    <tr>\n",
              "      <th>3</th>\n",
              "      <td>4</td>\n",
              "    </tr>\n",
              "    <tr>\n",
              "      <th>4</th>\n",
              "      <td>5</td>\n",
              "    </tr>\n",
              "    <tr>\n",
              "      <th>5</th>\n",
              "      <td>6</td>\n",
              "    </tr>\n",
              "    <tr>\n",
              "      <th>6</th>\n",
              "      <td>7</td>\n",
              "    </tr>\n",
              "    <tr>\n",
              "      <th>7</th>\n",
              "      <td>8</td>\n",
              "    </tr>\n",
              "    <tr>\n",
              "      <th>8</th>\n",
              "      <td>9</td>\n",
              "    </tr>\n",
              "    <tr>\n",
              "      <th>9</th>\n",
              "      <td>10</td>\n",
              "    </tr>\n",
              "  </tbody>\n",
              "</table>\n",
              "</div>"
            ],
            "text/plain": [
              "    0\n",
              "0   1\n",
              "1   2\n",
              "2   3\n",
              "3   4\n",
              "4   5\n",
              "5   6\n",
              "6   7\n",
              "7   8\n",
              "8   9\n",
              "9  10"
            ]
          },
          "metadata": {
            "tags": []
          },
          "execution_count": 22
        }
      ]
    },
    {
      "metadata": {
        "id": "xE4OMkUWpdkc",
        "colab_type": "code",
        "colab": {
          "autoexec": {
            "startup": false,
            "wait_interval": 0
          }
        }
      },
      "cell_type": "code",
      "source": [
        ""
      ],
      "execution_count": 0,
      "outputs": []
    }
  ]
}