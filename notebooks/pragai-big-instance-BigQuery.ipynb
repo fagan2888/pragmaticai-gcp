{
 "cells": [
  {
   "cell_type": "code",
   "execution_count": 30,
   "metadata": {
    "collapsed": false,
    "deletable": true,
    "editable": true
   },
   "outputs": [],
   "source": [
    "import pandas as pd\n",
    "import google.datalab.bigquery as bq\n",
    "pd.set_option('display.float_format', lambda x: '%.3f' % x)\n",
    "import seaborn as sns\n",
    "from io import BytesIO"
   ]
  },
  {
   "cell_type": "code",
   "execution_count": 31,
   "metadata": {
    "collapsed": true,
    "deletable": true,
    "editable": true
   },
   "outputs": [],
   "source": [
    "#df from BigQuery"
   ]
  },
  {
   "cell_type": "code",
   "execution_count": 45,
   "metadata": {
    "collapsed": false,
    "deletable": true,
    "editable": true
   },
   "outputs": [],
   "source": [
    "some_games = bq.Query('SELECT * FROM `gamelogs.records` LIMIT 10000')\n",
    "df = some_games.execute(output_options=bq.QueryOutput.dataframe()).result()\n"
   ]
  },
  {
   "cell_type": "code",
   "execution_count": 46,
   "metadata": {
    "collapsed": false
   },
   "outputs": [
    {
     "data": {
      "text/html": [
       "<div>\n",
       "<style scoped>\n",
       "    .dataframe tbody tr th:only-of-type {\n",
       "        vertical-align: middle;\n",
       "    }\n",
       "\n",
       "    .dataframe tbody tr th {\n",
       "        vertical-align: top;\n",
       "    }\n",
       "\n",
       "    .dataframe thead th {\n",
       "        text-align: right;\n",
       "    }\n",
       "</style>\n",
       "<table border=\"1\" class=\"dataframe\">\n",
       "  <thead>\n",
       "    <tr style=\"text-align: right;\">\n",
       "      <th></th>\n",
       "      <th>date</th>\n",
       "      <th>number_of_game</th>\n",
       "      <th>day_of_week</th>\n",
       "      <th>v_name</th>\n",
       "      <th>v_league</th>\n",
       "      <th>v_game_number</th>\n",
       "      <th>h_name</th>\n",
       "      <th>h_league</th>\n",
       "      <th>h_game_number</th>\n",
       "      <th>v_score</th>\n",
       "      <th>...</th>\n",
       "      <th>h_player_7_name</th>\n",
       "      <th>h_player_7_def_pos</th>\n",
       "      <th>h_player_8_id</th>\n",
       "      <th>h_player_8_name</th>\n",
       "      <th>h_player_8_def_pos</th>\n",
       "      <th>h_player_9_id</th>\n",
       "      <th>h_player_9_name</th>\n",
       "      <th>h_player_9_def_pos</th>\n",
       "      <th>additional_info</th>\n",
       "      <th>acquisition_info</th>\n",
       "    </tr>\n",
       "  </thead>\n",
       "  <tbody>\n",
       "    <tr>\n",
       "      <th>0</th>\n",
       "      <td>18751023</td>\n",
       "      <td>0</td>\n",
       "      <td>Sat</td>\n",
       "      <td>PH2</td>\n",
       "      <td>na</td>\n",
       "      <td>69</td>\n",
       "      <td>PH1</td>\n",
       "      <td>na</td>\n",
       "      <td>76</td>\n",
       "      <td>6</td>\n",
       "      <td>...</td>\n",
       "      <td>None</td>\n",
       "      <td>None</td>\n",
       "      <td>None</td>\n",
       "      <td>None</td>\n",
       "      <td>None</td>\n",
       "      <td>None</td>\n",
       "      <td>None</td>\n",
       "      <td>None</td>\n",
       "      <td>None</td>\n",
       "      <td>None</td>\n",
       "    </tr>\n",
       "    <tr>\n",
       "      <th>1</th>\n",
       "      <td>18751021</td>\n",
       "      <td>0</td>\n",
       "      <td>Thu</td>\n",
       "      <td>PH2</td>\n",
       "      <td>na</td>\n",
       "      <td>68</td>\n",
       "      <td>NY2</td>\n",
       "      <td>na</td>\n",
       "      <td>68</td>\n",
       "      <td>14</td>\n",
       "      <td>...</td>\n",
       "      <td>None</td>\n",
       "      <td>None</td>\n",
       "      <td>None</td>\n",
       "      <td>None</td>\n",
       "      <td>None</td>\n",
       "      <td>None</td>\n",
       "      <td>None</td>\n",
       "      <td>None</td>\n",
       "      <td>None</td>\n",
       "      <td>None</td>\n",
       "    </tr>\n",
       "    <tr>\n",
       "      <th>2</th>\n",
       "      <td>18770807</td>\n",
       "      <td>0</td>\n",
       "      <td>Tue</td>\n",
       "      <td>CN1</td>\n",
       "      <td>NL</td>\n",
       "      <td>32</td>\n",
       "      <td>CHN</td>\n",
       "      <td>NL</td>\n",
       "      <td>36</td>\n",
       "      <td>7</td>\n",
       "      <td>...</td>\n",
       "      <td>None</td>\n",
       "      <td>None</td>\n",
       "      <td>None</td>\n",
       "      <td>None</td>\n",
       "      <td>None</td>\n",
       "      <td>None</td>\n",
       "      <td>None</td>\n",
       "      <td>None</td>\n",
       "      <td>None</td>\n",
       "      <td>None</td>\n",
       "    </tr>\n",
       "    <tr>\n",
       "      <th>3</th>\n",
       "      <td>18770809</td>\n",
       "      <td>0</td>\n",
       "      <td>Thu</td>\n",
       "      <td>CN1</td>\n",
       "      <td>NL</td>\n",
       "      <td>33</td>\n",
       "      <td>CHN</td>\n",
       "      <td>NL</td>\n",
       "      <td>37</td>\n",
       "      <td>9</td>\n",
       "      <td>...</td>\n",
       "      <td>None</td>\n",
       "      <td>None</td>\n",
       "      <td>None</td>\n",
       "      <td>None</td>\n",
       "      <td>None</td>\n",
       "      <td>None</td>\n",
       "      <td>None</td>\n",
       "      <td>None</td>\n",
       "      <td>None</td>\n",
       "      <td>None</td>\n",
       "    </tr>\n",
       "    <tr>\n",
       "      <th>4</th>\n",
       "      <td>18770817</td>\n",
       "      <td>0</td>\n",
       "      <td>Fri</td>\n",
       "      <td>CN1</td>\n",
       "      <td>NL</td>\n",
       "      <td>36</td>\n",
       "      <td>HAR</td>\n",
       "      <td>NL</td>\n",
       "      <td>41</td>\n",
       "      <td>4</td>\n",
       "      <td>...</td>\n",
       "      <td>None</td>\n",
       "      <td>None</td>\n",
       "      <td>None</td>\n",
       "      <td>None</td>\n",
       "      <td>None</td>\n",
       "      <td>None</td>\n",
       "      <td>None</td>\n",
       "      <td>None</td>\n",
       "      <td>None</td>\n",
       "      <td>None</td>\n",
       "    </tr>\n",
       "  </tbody>\n",
       "</table>\n",
       "<p>5 rows × 161 columns</p>\n",
       "</div>"
      ],
      "text/plain": [
       "       date  number_of_game day_of_week v_name v_league  v_game_number h_name  \\\n",
       "0  18751023               0         Sat    PH2       na             69    PH1   \n",
       "1  18751021               0         Thu    PH2       na             68    NY2   \n",
       "2  18770807               0         Tue    CN1       NL             32    CHN   \n",
       "3  18770809               0         Thu    CN1       NL             33    CHN   \n",
       "4  18770817               0         Fri    CN1       NL             36    HAR   \n",
       "\n",
       "  h_league  h_game_number  v_score       ...         h_player_7_name  \\\n",
       "0       na             76        6       ...                    None   \n",
       "1       na             68       14       ...                    None   \n",
       "2       NL             36        7       ...                    None   \n",
       "3       NL             37        9       ...                    None   \n",
       "4       NL             41        4       ...                    None   \n",
       "\n",
       "   h_player_7_def_pos h_player_8_id h_player_8_name h_player_8_def_pos  \\\n",
       "0                None          None            None               None   \n",
       "1                None          None            None               None   \n",
       "2                None          None            None               None   \n",
       "3                None          None            None               None   \n",
       "4                None          None            None               None   \n",
       "\n",
       "  h_player_9_id h_player_9_name  h_player_9_def_pos  additional_info  \\\n",
       "0          None            None                None             None   \n",
       "1          None            None                None             None   \n",
       "2          None            None                None             None   \n",
       "3          None            None                None             None   \n",
       "4          None            None                None             None   \n",
       "\n",
       "  acquisition_info  \n",
       "0             None  \n",
       "1             None  \n",
       "2             None  \n",
       "3             None  \n",
       "4             None  \n",
       "\n",
       "[5 rows x 161 columns]"
      ]
     },
     "execution_count": 46,
     "metadata": {},
     "output_type": "execute_result"
    }
   ],
   "source": [
    "df.head()"
   ]
  },
  {
   "cell_type": "code",
   "execution_count": 62,
   "metadata": {
    "collapsed": false,
    "deletable": true,
    "editable": true
   },
   "outputs": [
    {
     "name": "stderr",
     "output_type": "stream",
     "text": [
      "/usr/local/envs/py3env/lib/python3.5/site-packages/matplotlib/font_manager.py:1320: UserWarning: findfont: Font family ['sans-serif'] not found. Falling back to DejaVu Sans\n",
      "  (prop.get_family(), self.defaultFamily[fontext]))\n"
     ]
    },
    {
     "data": {
      "image/png": "[encoded data removed]",
      "text/plain": [
       "<matplotlib.figure.Figure at 0x7fa0e63fc6d8>"
      ]
     },
     "metadata": {},
     "output_type": "display_data"
    }
   ],
   "source": [
    "g = sns.FacetGrid(df, col=\"day_of_week\", size=4, aspect=.5)\n",
    "g = g.map(plt.hist, \"attendance\")"
   ]
  },
  {
   "cell_type": "code",
   "execution_count": null,
   "metadata": {
    "collapsed": true
   },
   "outputs": [],
   "source": []
  },
  {
   "cell_type": "code",
   "execution_count": null,
   "metadata": {
    "collapsed": true
   },
   "outputs": [],
   "source": []
  }
 ],
 "metadata": {
  "kernelspec": {
   "display_name": "Python 3",
   "language": "python",
   "name": "python3"
  },
  "language_info": {
   "codemirror_mode": {
    "name": "ipython",
    "version": 3
   },
   "file_extension": ".py",
   "mimetype": "text/x-python",
   "name": "python",
   "nbconvert_exporter": "python",
   "pygments_lexer": "ipython3",
   "version": "3.5.5"
  }
 },
 "nbformat": 4,
 "nbformat_minor": 2
}
